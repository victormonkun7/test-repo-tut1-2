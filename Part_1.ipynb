{
 "cells": [
  {
   "cell_type": "code",
   "execution_count": null,
   "metadata": {},
   "outputs": [
    {
     "name": "stdout",
     "output_type": "stream",
     "text": [
      "This is a prime number\n"
     ]
    }
   ],
   "source": [
    "#Exercise 1\n",
    "n = float(input('Enter a number: '))\n",
    "interger_number = int(n)\n",
    "\n",
    "#check if the input number is a floating number or not and ask the user to use only the intergers.\n",
    "if n!=interger_number:\n",
    "    print('Write a non-floating number!')\n",
    "elif n==0 or n%2!=0:\n",
    "    print('This is not a prime number')\n",
    "else:\n",
    "    print('This is a prime number')"
   ]
  },
  {
   "cell_type": "code",
   "execution_count": null,
   "metadata": {},
   "outputs": [
    {
     "name": "stdout",
     "output_type": "stream",
     "text": [
      "Fibonacci sequence: 0 1 1 2 3 5 8 13 21 34 55 89 144 233 377 610 987 1597 2584 4181 6765 10946 17711 28657 46368 75025 121393 196418 317811 514229 832040 1346269 2178309 3524578 5702887 9227465 14930352 24157817 39088169 63245986 102334155 165580141 267914296 433494437 701408733 1134903170 1836311903 2971215073 4807526976 7778742049\n"
     ]
    }
   ],
   "source": [
    "#Exercise 2\n",
    "# Ask the user how many Fibonacci numbers they want\n",
    "input_num = int(input(\"Please enter how many numbers you want in Fibonacci set to be calculated and displayed: \"))\n",
    "\n",
    "# Check for valid input\n",
    "if input_num <= 0:\n",
    "    print(\"The number couldn't be less than 1\")\n",
    "else:\n",
    "    # Initialize with the first two Fibonacci numbers\n",
    "    fib_sequence = [0, 1]  \n",
    "\n",
    "    # Generate the sequence\n",
    "    for i in range(2, input_num):\n",
    "        next_number = fib_sequence[-1] + fib_sequence[-2]\n",
    "        fib_sequence.append(next_number)\n",
    "\n",
    "    # Print the desired amount of Fibonacci sequence\n",
    "    print(\"Fibonacci sequence:\", *fib_sequence[:input_num])"
   ]
  },
  {
   "cell_type": "code",
   "execution_count": 13,
   "metadata": {},
   "outputs": [
    {
     "name": "stdout",
     "output_type": "stream",
     "text": [
      "* * * * * \n",
      "* * * * \n",
      "* * * \n",
      "* * \n",
      "* \n"
     ]
    }
   ],
   "source": [
    "#Exercise 3\n",
    "# Define the number of rows for the pattern\n",
    "n = 5\n",
    "# Outer loop: Iterates over each row (i ranges from 0 to n-1)\n",
    "for i in range(n):\n",
    "    # Inner loop: Controls the number of stars printed in each row\n",
    "    # It starts from 'i' and goes up to 'n', decreasing the number of stars in each row\n",
    "    for j in range(i,n):\n",
    "        print('*', end = ' ')\n",
    "    # Print a newline after each row to move to the next line\n",
    "    print()"
   ]
  },
  {
   "cell_type": "code",
   "execution_count": 105,
   "metadata": {},
   "outputs": [
    {
     "name": "stdout",
     "output_type": "stream",
     "text": [
      "Incorrect password. Try again.\n",
      "Incorrect password. Try again.\n",
      "Incorrect password. Try again.\n",
      "Access Granted!\n"
     ]
    }
   ],
   "source": [
    "#Exercise 7\n",
    "while True:\n",
    "    psd = str(input('Enter the password: '))\n",
    "    if psd == \"Python123\":\n",
    "        print('Access Granted!')\n",
    "        break\n",
    "    else:\n",
    "        print('Incorrect password. Try again.')\n",
    "        continue"
   ]
  }
 ],
 "metadata": {
  "kernelspec": {
   "display_name": "Python 3",
   "language": "python",
   "name": "python3"
  },
  "language_info": {
   "codemirror_mode": {
    "name": "ipython",
    "version": 3
   },
   "file_extension": ".py",
   "mimetype": "text/x-python",
   "name": "python",
   "nbconvert_exporter": "python",
   "pygments_lexer": "ipython3",
   "version": "3.12.1"
  }
 },
 "nbformat": 4,
 "nbformat_minor": 2
}
