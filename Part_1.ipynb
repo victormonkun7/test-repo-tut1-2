{
 "cells": [
  {
   "cell_type": "code",
   "execution_count": null,
   "metadata": {},
   "outputs": [
    {
     "name": "stdout",
     "output_type": "stream",
     "text": [
      "This is a prime number\n"
     ]
    }
   ],
   "source": [
    "#Exercise 1\n",
    "n = float(input('Enter a number: '))\n",
    "interger_number = int(n)\n",
    "\n",
    "#check if the input number is a floating number or not and ask the user to use only the intergers.\n",
    "if n!=interger_number:\n",
    "    print('Write a non-floating number!')\n",
    "elif n==0 or n%2!=0:\n",
    "    print('This is not a prime number')\n",
    "else:\n",
    "    print('This is a prime number')"
   ]
  },
  {
   "cell_type": "code",
   "execution_count": null,
   "metadata": {},
   "outputs": [
    {
     "name": "stdout",
     "output_type": "stream",
     "text": [
      "* * * * * \n",
      "* * * * \n",
      "* * * \n",
      "* * \n",
      "* \n"
     ]
    }
   ],
   "source": [
    "#Exercise 3\n",
    "n = 5\n",
    "for i in range(n):\n",
    "    for j in range(i,n):\n",
    "        print('*', end = ' ')\n",
    "    print()"
   ]
  },
  {
   "cell_type": "code",
   "execution_count": 105,
   "metadata": {},
   "outputs": [
    {
     "name": "stdout",
     "output_type": "stream",
     "text": [
      "Incorrect password. Try again.\n",
      "Incorrect password. Try again.\n",
      "Incorrect password. Try again.\n",
      "Access Granted!\n"
     ]
    }
   ],
   "source": [
    "#Exercise 7\n",
    "while True:\n",
    "    psd = str(input('Enter the password: '))\n",
    "    if psd == \"Python123\":\n",
    "        print('Access Granted!')\n",
    "        break\n",
    "    else:\n",
    "        print('Incorrect password. Try again.')\n",
    "        continue"
   ]
  }
 ],
 "metadata": {
  "kernelspec": {
   "display_name": "Python 3",
   "language": "python",
   "name": "python3"
  },
  "language_info": {
   "codemirror_mode": {
    "name": "ipython",
    "version": 3
   },
   "file_extension": ".py",
   "mimetype": "text/x-python",
   "name": "python",
   "nbconvert_exporter": "python",
   "pygments_lexer": "ipython3",
   "version": "3.12.1"
  }
 },
 "nbformat": 4,
 "nbformat_minor": 2
}
