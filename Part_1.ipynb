{
 "cells": [
  {
   "cell_type": "code",
   "execution_count": null,
   "metadata": {},
   "outputs": [
    {
     "name": "stdout",
     "output_type": "stream",
     "text": [
      "This is a prime number\n"
     ]
    }
   ],
   "source": [
    "#Exercise 1\n",
    "n = float(input('Enter a number: '))\n",
    "interger_number = int(n)\n",
    "\n",
    "#check if the input number is a floating number or not and ask the user to use only the intergers.\n",
    "if n!=interger_number:\n",
    "    print('Write a non-floating number!')\n",
    "elif n==0 or n%2!=0:\n",
    "    print('This is not a prime number')\n",
    "else:\n",
    "    print('This is a prime number')"
   ]
  },
  {
   "cell_type": "code",
   "execution_count": null,
   "metadata": {},
   "outputs": [
    {
     "name": "stdout",
     "output_type": "stream",
     "text": [
      "Fibonacci sequence: 0 1 1 2 3 5 8 13 21 34 55 89 144 233 377 610 987 1597 2584 4181 6765 10946 17711 28657 46368 75025 121393 196418 317811 514229 832040 1346269 2178309 3524578 5702887 9227465 14930352 24157817 39088169 63245986 102334155 165580141 267914296 433494437 701408733 1134903170 1836311903 2971215073 4807526976 7778742049\n"
     ]
    }
   ],
   "source": [
    "#Exercise 2\n",
    "# Ask the user how many Fibonacci numbers they want\n",
    "input_num = int(input(\"Please enter how many numbers you want in Fibonacci set to be calculated and displayed: \"))\n",
    "\n",
    "# Check for valid input\n",
    "if input_num <= 0:\n",
    "    print(\"The number couldn't be less than 1\")\n",
    "else:\n",
    "    # Initialize with the first two Fibonacci numbers\n",
    "    fib_sequence = [0, 1]  \n",
    "\n",
    "    # Generate the sequence\n",
    "    for i in range(2, input_num):\n",
    "        next_number = fib_sequence[-1] + fib_sequence[-2]\n",
    "        fib_sequence.append(next_number)\n",
    "\n",
    "    # Print the desired amount of Fibonacci sequence\n",
    "    print(\"Fibonacci sequence:\", *fib_sequence[:input_num])"
   ]
  },
  {
   "cell_type": "code",
   "execution_count": 13,
   "metadata": {},
   "outputs": [
    {
     "name": "stdout",
     "output_type": "stream",
     "text": [
      "* * * * * \n",
      "* * * * \n",
      "* * * \n",
      "* * \n",
      "* \n"
     ]
    }
   ],
   "source": [
    "#Exercise 3\n",
    "# Define the number of rows for the pattern\n",
    "n = 5\n",
    "# Outer loop: Iterates over each row (i ranges from 0 to n-1)\n",
    "for i in range(n):\n",
    "    # Inner loop: Controls the number of stars printed in each row\n",
    "    # It starts from 'i' and goes up to 'n', decreasing the number of stars in each row\n",
    "    for j in range(i,n):\n",
    "        print('*', end = ' ')\n",
    "    # Print a newline after each row to move to the next line\n",
    "    print()"
   ]
  },
  {
   "cell_type": "code",
   "execution_count": 15,
   "metadata": {},
   "outputs": [
    {
     "name": "stdout",
     "output_type": "stream",
     "text": [
      "Reversed string: gfs5454\n"
     ]
    }
   ],
   "source": [
    "#Exercise 4\n",
    "# Function to reverse a string\n",
    "def reverse_string():\n",
    "    text = input(\"Enter a string: \")  # Get input from the user\n",
    "    print(\"Reversed string:\", text[::-1])  # Print the reversed string\n",
    "\n",
    "# Run the function\n",
    "reverse_string()"
   ]
  },
  {
   "cell_type": "code",
   "execution_count": null,
   "metadata": {},
   "outputs": [],
   "source": [
    "#Exercise 5\n",
    "# Function to find min and max values in an iterable\n",
    "def min_max(numbers):\n",
    "    return min(numbers), max(numbers)  # Return min and max as a tuple\n",
    "\n",
    "# Example usage\n",
    "values = [5, 12, 3, 9, 18]  # Collection of numbers (can be list, tuple, etc.)\n",
    "\n",
    "# Unpack the min and max values\n",
    "min_val, max_val = min_max(values)\n",
    "\n",
    "# Print the results\n",
    "print(\"Min value is:\", min_val)\n",
    "print(\"Max value is:\", max_val)"
   ]
  },
  {
   "cell_type": "code",
   "execution_count": null,
   "metadata": {},
   "outputs": [],
   "source": [
    "#Exercise 6\n",
    "import random\n",
    "\n",
    "# Pick a random number between 1 and 10\n",
    "secret = random.randint(1, 10)\n",
    "\n",
    "# Game loop\n",
    "while True:\n",
    "    guess = int(input(\"Guess the number (1-10): \"))\n",
    "\n",
    "    if guess < secret:\n",
    "        print(\"Too low! Try again.\")\n",
    "    elif guess > secret:\n",
    "        print(\"Too high! Try again.\")\n",
    "    else:\n",
    "        print(\"🎉 Correct! You win!\")\n",
    "        break"
   ]
  },
  {
   "cell_type": "code",
   "execution_count": 105,
   "metadata": {},
   "outputs": [
    {
     "name": "stdout",
     "output_type": "stream",
     "text": [
      "Incorrect password. Try again.\n",
      "Incorrect password. Try again.\n",
      "Incorrect password. Try again.\n",
      "Access Granted!\n"
     ]
    }
   ],
   "source": [
    "#Exercise 7\n",
    "while True:\n",
    "    psd = str(input('Enter the password: '))\n",
    "    if psd == \"Python123\":\n",
    "        print('Access Granted!')\n",
    "        break\n",
    "    else:\n",
    "        print('Incorrect password. Try again.')\n",
    "        continue"
   ]
  },
  {
   "cell_type": "code",
   "execution_count": null,
   "metadata": {},
   "outputs": [],
   "source": [
    "#Exercise 8\n",
    "import math\n",
    "\n",
    "# Get user input\n",
    "x = float(input(\"Enter the value of x: \"))\n",
    "N = int(input(\"Enter the number of terms (N): \"))\n",
    "\n",
    "# Function to calculate the series\n",
    "def calculate_series(x, N):\n",
    "    total = 0\n",
    "    for i in range(1, N + 1):\n",
    "        term = x * (5 ** (2 * i)) / (i + math.factorial(i + 1))\n",
    "        total += term\n",
    "    return total\n",
    "\n",
    "# Run the function and display the result\n",
    "result = calculate_series(x, N)\n",
    "print(f\"Series result: {result}\")"
   ]
  },
  {
   "cell_type": "code",
   "execution_count": null,
   "metadata": {},
   "outputs": [],
   "source": [
    "#Exercise 9\n",
    "import numpy as np\n",
    "import cv2\n",
    "import matplotlib.pyplot as plt\n",
    "\n",
    "# Load image into NumPy array\n",
    "image = cv2.imread(\"image.jpg\")  # Replace with your image file\n",
    "image = cv2.cvtColor(image, cv2.COLOR_BGR2RGB)  # Convert to RGB for correct colors\n",
    "\n",
    "# Create horizontal and vertical mirror reflections\n",
    "horizontal_flip = np.fliplr(image)\n",
    "vertical_flip = np.flipud(image)\n",
    "\n",
    "# Display the original and mirrored images\n",
    "plt.figure(figsize=(12, 4))\n",
    "\n",
    "plt.subplot(1, 3, 1)\n",
    "plt.title(\"Original\")\n",
    "plt.imshow(image)\n",
    "plt.axis(\"off\")\n",
    "\n",
    "plt.subplot(1, 3, 2)\n",
    "plt.title(\"Horizontal Mirror\")\n",
    "plt.imshow(horizontal_flip)\n",
    "plt.axis(\"off\")\n",
    "\n",
    "plt.subplot(1, 3, 3)\n",
    "plt.title(\"Vertical Mirror\")\n",
    "plt.imshow(vertical_flip)\n",
    "plt.axis(\"off\")\n",
    "\n",
    "plt.show()"
   ]
  },
  {
   "cell_type": "code",
   "execution_count": null,
   "metadata": {},
   "outputs": [],
   "source": [
    "#Exercise 10\n",
    "import numpy as np\n",
    "\n",
    "# 1. Create a NumPy array\n",
    "temps = np.array([22, 24, 19, 21, 23, 25, 26, 27, 24, 23, 20, 22, 21, 19, 18, 22, 23, 24, 26, \n",
    "                   28, 30, 27, 25, 26, 24, 22, 21, 20, 19, 23])\n",
    "\n",
    "# 2. Min, max, and average temperature\n",
    "print(\"Min:\", temps.min())\n",
    "print(\"Max:\", temps.max())\n",
    "print(\"Average:\", temps.mean())\n",
    "\n",
    "# 3. Convert to Fahrenheit\n",
    "fahrenheit = (temps * 9/5) + 32\n",
    "print(\"\\nFahrenheit:\", fahrenheit)\n",
    "\n",
    "# 4. Days above 25°C\n",
    "above_25 = temps[temps > 25]\n",
    "print(\"\\nAbove 25°C:\", above_25)\n",
    "\n",
    "# 5. Count days below 20°C\n",
    "below_20 = np.sum(temps < 20)\n",
    "print(\"\\nDays below 20°C:\", below_20)\n",
    "\n",
    "# 6. Sort in ascending order\n",
    "sorted_temps = np.sort(temps)\n",
    "print(\"\\nSorted Temps:\", sorted_temps)\n",
    "\n",
    "# 7. Reshape to 5x6 array\n",
    "weeks = temps.reshape(5, 6)\n",
    "print(\"\\n5x6 Array (Weeks):\\n\", weeks)"
   ]
  }
 ],
 "metadata": {
  "kernelspec": {
   "display_name": "Python 3",
   "language": "python",
   "name": "python3"
  },
  "language_info": {
   "codemirror_mode": {
    "name": "ipython",
    "version": 3
   },
   "file_extension": ".py",
   "mimetype": "text/x-python",
   "name": "python",
   "nbconvert_exporter": "python",
   "pygments_lexer": "ipython3",
   "version": "3.12.1"
  }
 },
 "nbformat": 4,
 "nbformat_minor": 2
}
