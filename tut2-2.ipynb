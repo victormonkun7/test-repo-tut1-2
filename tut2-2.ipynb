{
 "cells": [
  {
   "cell_type": "code",
   "execution_count": 8,
   "metadata": {},
   "outputs": [
    {
     "name": "stdout",
     "output_type": "stream",
     "text": [
      "\n",
      "List of lists:\n",
      "[[6, 40, 97, 83, 28], [9, 60, 2, 45, 8], [64, 23, 42, 29, 7], [98, 59, 97, 25, 96], [78, 91, 30, 48, 67], [8, 34, 35, 96, 8], [23, 51, 60, 26, 35], [13, 34, 82, 68, 18]]\n",
      "\n",
      "Converted NumPy array:\n",
      "[[ 6 40 97 83 28]\n",
      " [ 9 60  2 45  8]\n",
      " [64 23 42 29  7]\n",
      " [98 59 97 25 96]\n",
      " [78 91 30 48 67]\n",
      " [ 8 34 35 96  8]\n",
      " [23 51 60 26 35]\n",
      " [13 34 82 68 18]]\n"
     ]
    }
   ],
   "source": [
    "import numpy as np\n",
    "\n",
    "#dimenesions entered by a user\n",
    "rows = int(input('Enter the number of rows: '))\n",
    "columns = int(input('Enter the number of columns: '))\n",
    "\n",
    "#create list of lists using nested for loops\n",
    "the_list = []\n",
    "for i in range(rows):\n",
    "    row = []\n",
    "    for j in range(columns):\n",
    "        value = np.random.randint(0, 100)\n",
    "        row.append(value)\n",
    "    the_list.append(row)\n",
    "\n",
    "# Convert the list of lists to a NumPy array\n",
    "numpy_array = np.array(the_list)\n",
    "\n",
    "# Output the result\n",
    "print(\"\\nList of lists:\")\n",
    "print(the_list)\n",
    "\n",
    "print(\"\\nConverted NumPy array:\")\n",
    "print(numpy_array)"
   ]
  }
 ],
 "metadata": {
  "kernelspec": {
   "display_name": "Python 3",
   "language": "python",
   "name": "python3"
  },
  "language_info": {
   "codemirror_mode": {
    "name": "ipython",
    "version": 3
   },
   "file_extension": ".py",
   "mimetype": "text/x-python",
   "name": "python",
   "nbconvert_exporter": "python",
   "pygments_lexer": "ipython3",
   "version": "3.12.1"
  }
 },
 "nbformat": 4,
 "nbformat_minor": 2
}
